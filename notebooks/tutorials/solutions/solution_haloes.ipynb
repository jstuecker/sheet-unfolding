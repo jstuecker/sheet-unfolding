{
 "cells": [
  {
   "cell_type": "code",
   "execution_count": null,
   "id": "aa5d18c8",
   "metadata": {
    "tags": []
   },
   "outputs": [],
   "source": [
    "%matplotlib inline\n",
    "\n",
    "import numpy as np\n",
    "import matplotlib.pyplot as plt\n",
    "\n",
    "import sys\n",
    "sys.path.append(\"../../../lib\")\n",
    "\n",
    "import minisim\n",
    "from matplotlib.colors import LogNorm\n",
    "\n",
    "import pyfof"
   ]
  },
  {
   "cell_type": "markdown",
   "id": "62325567",
   "metadata": {},
   "source": [
    "# Goals:\n",
    "* Run a friends of friends algorithm on a simulation\n",
    "* Plot particles that are in haloes\n",
    "* Plot a halo mass function\n",
    "* Plot displacement fields in Lagrangian space\n",
    "* Plot halo particles in Lagrangian space\n"
   ]
  },
  {
   "cell_type": "markdown",
   "id": "dc3ea756",
   "metadata": {},
   "source": [
    "# Run a simulation\n",
    "this code you don't need to write here"
   ]
  },
  {
   "cell_type": "code",
   "execution_count": null,
   "id": "f1ea1e9a",
   "metadata": {},
   "outputs": [],
   "source": [
    "Om, Ol, sig = 1., 0., 2.\n",
    "aini = 0.02\n",
    "\n",
    "myic = minisim.ic.IC2DCosmo(512, sig=sig, L=100., aic=aini, rs=2., vec3d=True, Omega_m=Om, Omega_l=Ol)\n",
    "potfield = minisim.potential.PM2DPotentialField(128, 100., vec3d=True)\n",
    "\n",
    "sim = minisim.sim.Cosmological2DSimulation(myic, potfield, aini=aini, dastep=0.005, dtlog=0.02, Omega_m=Om, Omega_l=Ol, \n",
    "                                           dtcheckpoint=0.5, cpfile=\"mycheckpoints.hdf5\")\n",
    "\n",
    "sim.integrate_till(1.)"
   ]
  },
  {
   "cell_type": "code",
   "execution_count": null,
   "id": "fabcf51c",
   "metadata": {},
   "outputs": [],
   "source": [
    "mypfield = minisim.potential.PM2DPotentialField(256, 100., vec3d=True)\n",
    "\n",
    "mypfield.deposit(sim.part[\"pos\"][...,0:2].reshape(-1,2), sim.part[\"mass\"].reshape(-1))\n",
    "plt.imshow(np.clip(mypfield.rhogrid / np.mean(mypfield.rhogrid), 1e-2, None).T, origin=\"lower\", norm = LogNorm(vmin=1e-2, vmax=1e2), extent=[0,100.,0.,100.])\n",
    "plt.title(\"a = %g\" % sim.time)\n",
    "plt.xlabel(r\"$x$ [Mpc/$h$]\", fontsize=14)\n",
    "plt.ylabel(r\"$y$ [Mpc/$h$]\", fontsize=14)"
   ]
  },
  {
   "cell_type": "markdown",
   "id": "c68a90a9",
   "metadata": {},
   "source": [
    "# Use a Friends of Friends algorithm to detect haloes\n",
    "install the module \"pyfof\". In linux you could do it e.g. with\n",
    "\n",
    "```pip install pyfof```\n",
    "\n",
    "Make sure to learn how to install python modules with a single command, because you will need it often.\n",
    "\n",
    "Read a bit about the friends of friends algorithm. E.g. here: https://swift.dur.ac.uk/docs/FriendsOfFriends/algorithm_description.html\n",
    "\n",
    "Then find friends of friends groups with a linking length of 0.2 mean particle separations. Discard all groups which have less than 20 members. Then make a density plot of all particles that are in a group with N>=20 members\n",
    "\n",
    "Note: What we are doing here is not exactly correct, because we are neglecting the periodic boundary conditions. However, let's keep it simple for now ;)"
   ]
  },
  {
   "cell_type": "code",
   "execution_count": null,
   "id": "cb11f166",
   "metadata": {},
   "outputs": [],
   "source": [
    "linking_length = 0.2*np.sqrt(np.mean(100.**2/512.**2))\n",
    "print(linking_length)"
   ]
  },
  {
   "cell_type": "code",
   "execution_count": null,
   "id": "f7dfd084",
   "metadata": {},
   "outputs": [],
   "source": [
    "res = pyfof.friends_of_friends(sim.part[\"pos\"].reshape(-1,3)[...,0:2], linking_length)"
   ]
  },
  {
   "cell_type": "code",
   "execution_count": null,
   "id": "088f636b",
   "metadata": {},
   "outputs": [],
   "source": [
    "allids = []\n",
    "for igroup,inds_in_group in enumerate(res):\n",
    "    if len(inds_in_group) >= 20:\n",
    "        allids += inds_in_group\n",
    "allids = np.array(allids)"
   ]
  },
  {
   "cell_type": "code",
   "execution_count": null,
   "id": "7bdde4f9",
   "metadata": {},
   "outputs": [],
   "source": [
    "mypfield1 = minisim.potential.PM2DPotentialField(256, 100., vec3d=True)\n",
    "mypfield1.deposit(sim.part[\"pos\"][...,0:2].reshape(-1,2), sim.part[\"mass\"].reshape(-1))\n",
    "mypfield2 = minisim.potential.PM2DPotentialField(256, 100., vec3d=True)\n",
    "mypfield2.deposit(sim.part[\"pos\"][...,0:2].reshape(-1,2)[allids], sim.part[\"mass\"].flat[allids])\n",
    "\n",
    "fig, axs = plt.subplots(1,2, figsize=(10,5),sharey=True)\n",
    "axs[0].imshow(np.clip(mypfield1.rhogrid / np.mean(mypfield1.rhogrid), 1e-2, None).T, origin=\"lower\", norm = LogNorm(vmin=1e-2, vmax=1e2), extent=[0,100.,0.,100.])\n",
    "axs[1].imshow(np.clip(mypfield2.rhogrid / np.mean(mypfield1.rhogrid), 1e-2, None).T, origin=\"lower\", norm = LogNorm(vmin=1e-2, vmax=1e2), extent=[0,100.,0.,100.])\n",
    "axs[0].set_title(\"All particles\")\n",
    "axs[1].set_title(\"Particles in groups with N >= 20\");\n",
    "for ax in axs:\n",
    "    ax.set_xlabel(r\"$x$ [Mpc/$h$]\", fontsize=14)\n",
    "axs[0].set_ylabel(r\"$y$ [Mpc/$h$]\", fontsize=14)"
   ]
  },
  {
   "cell_type": "markdown",
   "id": "7b6c1ad0",
   "metadata": {},
   "source": [
    "# Plot a mass function\n",
    "Plot the fof mass function. I.e. the number of objects with a given mass (through a histogram). The mass of a fof-group equals the sum of the masses of the particles in the group. Since all particles have equal mass, you can just multiply the length of the group by the particle mass $m_0$"
   ]
  },
  {
   "cell_type": "code",
   "execution_count": null,
   "id": "4cf281b2",
   "metadata": {},
   "outputs": [],
   "source": [
    "m0 = sim.part[\"mass\"][0,0]"
   ]
  },
  {
   "cell_type": "code",
   "execution_count": null,
   "id": "1d73aa1d",
   "metadata": {},
   "outputs": [],
   "source": [
    "lens = []\n",
    "ifof = np.zeros(sim.part[\"pos\"].shape[0:2], dtype=np.int64)\n",
    "for igroup,inds_in_group in enumerate(res):\n",
    "    if len(inds_in_group) > 20:\n",
    "        lens.append(len(inds_in_group))"
   ]
  },
  {
   "cell_type": "code",
   "execution_count": null,
   "id": "c2a9333d",
   "metadata": {},
   "outputs": [],
   "source": [
    "bins = np.logspace(11,13,15)\n",
    "plt.hist(np.array(lens)*m0, bins=bins)\n",
    "plt.xscale(\"log\")\n",
    "plt.xlabel(r\"$M_{\\rm{fof}} [M_\\odot / h]$\")\n",
    "plt.ylabel(\"Number of objects\")\n",
    "plt.xlim(1e11, 1e13)"
   ]
  },
  {
   "cell_type": "markdown",
   "id": "d2c4e942",
   "metadata": {},
   "source": [
    "# Lagrangian space\n",
    "\n",
    "Let's plot the displacement field in Lagrangian space. (This first new exercise is independent of the previous ones).\n",
    "\n",
    "Lagrangian space is the space of the initial locations of particles. We started with all particles on a grid (myic.qi[...,0:2]). Since we kept all particles in the same order, making a Lagrangian plot can be as simple as an plt.imshow(myparticleproperty, ...)\n",
    "\n",
    "The displacement field  $\\vec{s}$ describes how much a particle moved from its initial location and it is defined so that\n",
    "\n",
    "\\begin{align}\n",
    "\\vec{x}(\\vec{q}) = \\vec{q} + \\vec{s}(\\vec{q})\n",
    "\\end{align}\n",
    "\n",
    "where $\\vec{x}$ are the particle positions and $\\vec{q}$ their Lagrangian (initial coordinates). Therefore in principle $\\vec{s} = \\vec{x} - \\vec{q}$. However, since we always wrap particle positions periodically between [0,L], you have to undo the periodic wrapping. You can do this by subtracting/adding +-L so that $\\vec{s}$ lies in [-L/2, L/2].\n",
    "\n",
    "Make a plot of each, the x and y components, of $\\vec{s}$ in Lag. space. Further, put a quiver plot on top to indicate the displacement by arrows."
   ]
  },
  {
   "cell_type": "code",
   "execution_count": null,
   "id": "d10d9a29",
   "metadata": {},
   "outputs": [],
   "source": [
    "L = 100.\n",
    "disp = (((sim.part[\"pos\"][...,0:2] - myic.qi[...,0:2]) + L/2.) % L) - L/2."
   ]
  },
  {
   "cell_type": "code",
   "execution_count": null,
   "id": "33a13eea",
   "metadata": {},
   "outputs": [],
   "source": [
    "fig, axs = plt.subplots(1,2, figsize=(14,8), sharey=True)\n",
    "\n",
    "axs[0].imshow(disp[...,0].T, origin=\"lower\", extent=[0,100.,0.,100.],cmap=\"seismic\",vmin=-10.,vmax=10.)\n",
    "axs[1].imshow(disp[...,1].T, origin=\"lower\", extent=[0,100.,0.,100.],cmap=\"seismic\",vmin=-10.,vmax=10.)\n",
    "for ax in axs:\n",
    "    ax.quiver(myic.qi[::16,::16,0], myic.qi[::16,::16,1], disp[::16,::16,0], disp[::16,::16,1], color=\"black\")\n",
    "    ax.set_xlabel(r\"$q_x$ [Mpc/$h$]\", fontsize=14)\n",
    "axs[0].set_ylabel(r\"$q_y$ [Mpc/$h$]\", fontsize=14)\n",
    "\n",
    "axs[0].set_title(r\"displacement $s_x$\", fontsize=14)\n",
    "axs[1].set_title(r\"displacement $s_y$\", fontsize=14)"
   ]
  },
  {
   "cell_type": "markdown",
   "id": "c289dc29",
   "metadata": {},
   "source": [
    "# Lagrangian space haloes\n",
    "\n",
    "Now let's get to the plot I actually want. Plot the halo index in Lagrangian space, so that different haloes will have different colors. Also plot the displacement field on top as a quiver plot.\n",
    "\n",
    "To get the halo index in Lagrangian space, you will have to mark each particle by the halo index it is part of. For this you will have to rearange a bit the information that you got from the output of pyfof"
   ]
  },
  {
   "cell_type": "code",
   "execution_count": null,
   "id": "3b3fb837",
   "metadata": {},
   "outputs": [],
   "source": [
    "ifof = np.zeros(sim.part[\"pos\"].shape[0:2], dtype=np.int64)\n",
    "for igroup,inds_in_group in enumerate(res):\n",
    "    if len(inds_in_group) > 20:\n",
    "        ifof.flat[inds_in_group] = igroup"
   ]
  },
  {
   "cell_type": "code",
   "execution_count": null,
   "id": "71633c6a",
   "metadata": {},
   "outputs": [],
   "source": [
    "plt.figure(figsize=(10,10))\n",
    "ax = plt.gca()\n",
    "ax.imshow(ifof.T, origin=\"lower\", extent=[0,100.,0.,100.], cmap=\"flag_r\", interpolation=\"none\")\n",
    "ax.quiver(myic.qi[::16,::16,0], myic.qi[::16,::16,1], disp[::16,::16,0], disp[::16,::16,1], color=\"lightgreen\")\n",
    "\n",
    "ax.set_xlabel(r\"$q_x$ [Mpc/$h$]\", fontsize=14)\n",
    "ax.set_ylabel(r\"$q_y$ [Mpc/$h$]\", fontsize=14)"
   ]
  },
  {
   "cell_type": "code",
   "execution_count": null,
   "id": "1e636a2f",
   "metadata": {},
   "outputs": [],
   "source": []
  }
 ],
 "metadata": {
  "kernelspec": {
   "display_name": "Python 3 (ipykernel)",
   "language": "python",
   "name": "python3"
  },
  "language_info": {
   "codemirror_mode": {
    "name": "ipython",
    "version": 3
   },
   "file_extension": ".py",
   "mimetype": "text/x-python",
   "name": "python",
   "nbconvert_exporter": "python",
   "pygments_lexer": "ipython3",
   "version": "3.11.4"
  }
 },
 "nbformat": 4,
 "nbformat_minor": 5
}
