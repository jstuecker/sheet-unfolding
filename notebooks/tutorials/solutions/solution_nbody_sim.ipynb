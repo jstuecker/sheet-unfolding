{
 "cells": [
  {
   "cell_type": "code",
   "execution_count": null,
   "id": "0446e364",
   "metadata": {
    "tags": []
   },
   "outputs": [],
   "source": [
    "%matplotlib inline\n",
    "\n",
    "import numpy as np\n",
    "import matplotlib.pyplot as plt\n",
    "\n",
    "import sys\n",
    "sys.path.append(\"../../../lib\")\n",
    "\n",
    "import sheet_unfolding.sim as sim\n",
    "from matplotlib.colors import LogNorm"
   ]
  },
  {
   "cell_type": "markdown",
   "id": "84771b93",
   "metadata": {},
   "source": [
    "# The Goal of this notebook to learn how to run a cosmological N-body system"
   ]
  },
  {
   "cell_type": "markdown",
   "id": "47de7801",
   "metadata": {},
   "source": [
    "# Step 1: Calculate the Density using a CIC assignment\n",
    "\n",
    "We need a good density estimate for the N-body simulations. Here we use a Clouds in Cells density (CIC) estimate.\n",
    "\n",
    "## Goal:\n",
    "Make a plot comparing the CIC densities with a normal histogram for a Zel'dovich approximation at a=0.05 and a=0.5"
   ]
  },
  {
   "cell_type": "code",
   "execution_count": null,
   "id": "a37d6c91",
   "metadata": {
    "tags": []
   },
   "outputs": [],
   "source": [
    "def cic_density(pos, mass=1., L=100., ngrid=128):\n",
    "    xred = (pos%L) / (L / ngrid)\n",
    "    ired = np.int64(np.floor(xred))\n",
    "    dx = xred - ired\n",
    "    rhogrid = 0.\n",
    "    \n",
    "    bins = np.arange(0, ngrid+1)\n",
    "    \n",
    "    for ix in (0,1):\n",
    "        for iy in (0,1):\n",
    "            weight = np.abs(1-ix-dx[...,0])*np.abs(1-iy-dx[...,1]) * mass\n",
    "            idep = (xred + np.array((ix, iy))) % ngrid\n",
    "            rhonew,_ = np.histogramdd(idep.reshape(-1,2), bins=(bins, bins), weights=weight.reshape(-1))\n",
    "            rhogrid += rhonew\n",
    "            \n",
    "    V = (L/ngrid)**2\n",
    "    \n",
    "    return rhogrid / V\n",
    "\n",
    "def histogram_density(pos, mass=1., L=100., ngrid=128):\n",
    "    V = (L/ngrid)**2\n",
    "    \n",
    "    bins = np.linspace(0, L, ngrid+1)\n",
    "    h,_ = np.histogramdd(pos.reshape(-1,2)%L, bins=(bins, bins), weights=mass*np.ones(pos.shape[:-1]).flatten())\n",
    "    return h / V"
   ]
  },
  {
   "cell_type": "code",
   "execution_count": null,
   "id": "1137e4fc",
   "metadata": {
    "tags": []
   },
   "outputs": [],
   "source": [
    "aini = 0.1\n",
    "L = 100.\n",
    "myic = sim.ic.IC2DCosmo(128, sL=L, aic=aini, rs=0.5, vec3d=True, Omega_m=1.)\n",
    "pos = myic.get_x(a=0.05)"
   ]
  },
  {
   "cell_type": "code",
   "execution_count": null,
   "id": "4523fd41",
   "metadata": {
    "tags": []
   },
   "outputs": [],
   "source": [
    "fig, axs = plt.subplots(2,3, figsize=(15,13))\n",
    "\n",
    "from matplotlib.colors import LogNorm\n",
    "\n",
    "for i, a in enumerate([0.05,0.5]):\n",
    "    pos = myic.get_x(a=a)[...,0:2]\n",
    "    axs[i,0].scatter(pos[...,0], pos[...,1], marker=\".\")\n",
    "    rhocic = cic_density(pos)\n",
    "    rhohist = histogram_density(pos)\n",
    "    vmin, vmax = np.min(rhocic)/ np.mean(rhocic), np.max(rhocic)/ np.mean(rhocic)\n",
    "    im = axs[i,1].imshow(rhocic.T / np.mean(rhocic), origin=\"lower\", extent=[0,L,0,L], vmin=vmin, vmax=vmax)\n",
    "    axs[i,2].imshow(rhohist.T / np.mean(rhohist), origin=\"lower\", extent=[0,L,0,L], vmin=vmin, vmax=vmax)\n",
    "    plt.colorbar(im, ax=axs[i,:], orientation=\"horizontal\", label=r\"$\\rho/ \\rho_0$\")\n",
    "    \n",
    "    axs[i,0].set_title(\"a = %.2f\" % a)\n",
    "    axs[i,1].set_title(\"CIC\")\n",
    "    axs[i,2].set_title(\"PIC (=histogram)\")\n",
    "\n",
    "for ax in axs.flat:\n",
    "    ax.set_xlim(0,32)\n",
    "    ax.set_ylim(0,32)\n",
    "    ax.set_xlabel(r\"$x$ [Mpc/$h$]\")\n",
    "    ax.set_ylabel(r\"$y$ [Mpc/$h$]\")"
   ]
  },
  {
   "cell_type": "markdown",
   "id": "9456187b",
   "metadata": {},
   "source": [
    "# Write a function which takes the particle positions and calculates the force field\n",
    "\n",
    "Note: don't normalize the density to the mean here, just directly use the output of cic_density!!"
   ]
  },
  {
   "cell_type": "code",
   "execution_count": null,
   "id": "e58e2c67",
   "metadata": {
    "tags": []
   },
   "outputs": [],
   "source": [
    "def force_field(pos, mass=1., L=100., ngrid=128, G=1.):\n",
    "    rho = cic_density(pos, mass=mass, L=L, ngrid=ngrid)\n",
    "    rhok = np.fft.fft2(rho)\n",
    "    \n",
    "    kvec = sim.ic.get_kmesh((ngrid, ngrid), L)\n",
    "    kabs = np.sqrt(np.sum(kvec**2, axis=-1))\n",
    "\n",
    "    phi_k = - 4 * np.pi * G * rhok / np.clip(kabs, 1e-20, None)**2\n",
    "    phi_k[0,0] = 0.\n",
    "    phi = np.real(np.fft.ifft2(phi_k))\n",
    "\n",
    "    acc_k = -1j * kvec * phi_k[...,np.newaxis]\n",
    "    acc = np.real(np.fft.ifft2(acc_k, axes=(0,1)))\n",
    "    \n",
    "    return acc"
   ]
  },
  {
   "cell_type": "code",
   "execution_count": null,
   "id": "93f9a8b5",
   "metadata": {
    "tags": []
   },
   "outputs": [],
   "source": [
    "pos = myic.get_x(a=0.5)[...,0:2]\n",
    "acc_field = force_field(pos.reshape(-1,2), ngrid=256, mass=1., G=1.)\n",
    "print(pos.shape, acc_field.shape)"
   ]
  },
  {
   "cell_type": "markdown",
   "id": "0d6ebfe9",
   "metadata": {},
   "source": [
    "# How to interpolate the acceleration field to evaluate at aribtrary positions\n",
    "\n",
    "You can simply use sim.sim.linear_interp2d for this. However, please have a look at the corresponding source code, so that you understand how the interpolation works\n",
    "\n",
    "Check that you get the same values here"
   ]
  },
  {
   "cell_type": "code",
   "execution_count": null,
   "id": "0a46887e",
   "metadata": {
    "tags": []
   },
   "outputs": [],
   "source": [
    "np.random.seed(42)\n",
    "xtest = np.random.uniform(0,L, (5,2))\n",
    "print(\"x=\", xtest)\n",
    "print(\"a=\",sim.sim.linear_interp2d(acc_field, xtest, L))"
   ]
  },
  {
   "cell_type": "markdown",
   "id": "2dcd7408",
   "metadata": {},
   "source": [
    "# Create a single function that takes the N-body positions and outputs the N-body forces"
   ]
  },
  {
   "cell_type": "code",
   "execution_count": null,
   "id": "9b2d079e",
   "metadata": {
    "tags": []
   },
   "outputs": [],
   "source": [
    "def nbody_forces(pos, mass=1., L=100., ngrid=128, G=1.):\n",
    "    acc_field = force_field(pos=pos, mass=mass, L=L, ngrid=ngrid, G=G)\n",
    "    \n",
    "    acc_at_pos = sim.sim.linear_interp2d(acc_field, pos, L)\n",
    "    \n",
    "    return acc_at_pos"
   ]
  },
  {
   "cell_type": "code",
   "execution_count": null,
   "id": "ace768b4",
   "metadata": {
    "tags": []
   },
   "outputs": [],
   "source": [
    "pos = myic.get_x(a=0.5)[...,0:2]\n",
    "nbody_forces(pos, ngrid=256).shape"
   ]
  },
  {
   "cell_type": "markdown",
   "id": "8ed5f3ea",
   "metadata": {},
   "source": [
    "# Make an N-body simulation\n",
    "\n",
    "We have to integrate the equations of motion\n",
    "\n",
    "\\begin{align}\n",
    "  \\frac{d\\vec{x}}{da} &= \\frac{1}{a^3 H(a)} \\vec{v}\\\\\n",
    "  \\frac{d\\vec{v}}{da} &= \\frac{1}{a^2 H(a)} \\vec{a}\n",
    "\\end{align}\n",
    "where $\\vec{a}$ is the acceleration, $\\vec{v}$ the velocity and $\\vec{x}$ the position of the particles. These are all given in comoving space, we can discuss this later. H(a) is the Hubble function which in our case (Einstein-de-Sitter universe) is given by\n",
    "\\begin{align}\n",
    "  H(a) &= 100 a^{3/2}\n",
    "\\end{align}\n",
    "(units h km/s/Mpc)\n",
    "\n",
    "To get all the units right, it is important that you pass the masses to the CIC assignment. Further, you need to use \n",
    "\\begin{align}\n",
    "  G=43.0071057317063e-10\n",
    "\\end{align}\n",
    "which is the Gravitational constant when using units of Mpc, km/s and Msol (solar masses).\n",
    "\n",
    "Also don't for get to wrap all positions between [0, L] after each step (periodic boundary conditions!!) you can do this by setting\n",
    "pos = pos % L\n",
    "\n",
    "## Setup:\n",
    "start at a=0.05, use steps of size da=0.01, use a Euler integrator, and ngrid=256 for the force calculation"
   ]
  },
  {
   "cell_type": "code",
   "execution_count": null,
   "id": "702a2290",
   "metadata": {
    "tags": []
   },
   "outputs": [],
   "source": [
    "L = 100.\n",
    "myic = sim.ic.IC2DCosmo(128, L=L, rs=0.5, vec3d=True, Omega_m=1.)\n",
    "pos,vel, mass = myic.get_particles(a = 0.05)  \n",
    "pos, vel = pos[...,0:2], vel[...,0:2]"
   ]
  },
  {
   "cell_type": "code",
   "execution_count": null,
   "id": "3434bcf2",
   "metadata": {
    "tags": []
   },
   "outputs": [],
   "source": [
    "output_steps = [0,5,25,55,95]\n",
    "a = aini\n",
    "i, da = 0, 0.01\n",
    "while a <= 1.01:\n",
    "    if i in output_steps:\n",
    "        plt.figure()\n",
    "        plt.scatter(pos[...,0].flatten(), pos[...,1].flatten(), marker=\".\")\n",
    "        plt.xlim(0,32)\n",
    "        plt.ylim(0,32)\n",
    "        plt.title(\"a = %.2f\" % a)\n",
    "    H = 100. * a**(-3/2.)\n",
    "    driftfac = da/a**2 / (a*H)\n",
    "    kickfac = da/a / (a*H)\n",
    "    \n",
    "    pos = (pos + vel * driftfac) %L\n",
    "    acc = nbody_forces(pos, mass=mass, L=L, ngrid=256, G=43.0071057317063e-10)\n",
    "    vel += acc * kickfac\n",
    "    a += da\n",
    "    i += 1"
   ]
  },
  {
   "cell_type": "code",
   "execution_count": null,
   "id": "71142f38",
   "metadata": {},
   "outputs": [],
   "source": []
  }
 ],
 "metadata": {
  "kernelspec": {
   "display_name": "Python 3 (ipykernel)",
   "language": "python",
   "name": "python3"
  },
  "language_info": {
   "codemirror_mode": {
    "name": "ipython",
    "version": 3
   },
   "file_extension": ".py",
   "mimetype": "text/x-python",
   "name": "python",
   "nbconvert_exporter": "python",
   "pygments_lexer": "ipython3",
   "version": "3.11.4"
  }
 },
 "nbformat": 4,
 "nbformat_minor": 5
}
