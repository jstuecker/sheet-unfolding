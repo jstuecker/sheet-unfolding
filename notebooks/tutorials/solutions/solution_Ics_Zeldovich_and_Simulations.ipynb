{
 "cells": [
  {
   "cell_type": "code",
   "execution_count": null,
   "id": "da08c6d6",
   "metadata": {
    "tags": []
   },
   "outputs": [],
   "source": [
    "%matplotlib inline\n",
    "\n",
    "import numpy as np\n",
    "import matplotlib.pyplot as plt\n",
    "\n",
    "import sheet_unfolding.sim as sim\n",
    "\n",
    "from matplotlib.colors import LogNorm"
   ]
  },
  {
   "cell_type": "markdown",
   "id": "be1b25e1",
   "metadata": {},
   "source": [
    "# Plot The linear Density Field of the Initial Conditions with Different Smoothing Scales\n",
    "\n",
    "To get the same plot, use L=100., a=0.01, sigma8=0.8\n",
    "\n",
    "and different for evaluating the density field different rs in 5.,2.,1.\n",
    "\n",
    "* relevant classes: sim.ic.IC2DCosmo\n",
    "* relevant functions: sim.ic.IC2DCosmo.get_delta()"
   ]
  },
  {
   "cell_type": "code",
   "execution_count": null,
   "id": "0307f03a",
   "metadata": {
    "tags": []
   },
   "outputs": [],
   "source": [
    "L = 100.\n",
    "fig, axs = plt.subplots(1,3, figsize=(15,6))\n",
    "\n",
    "myic = sim.ic.IC2DCosmo(512, L=L, rs=5., vec3d=True, Omega_m=1.)\n",
    "im = axs[0].imshow(myic.get_delta(a=0.01).T, origin=\"lower\", cmap=\"seismic\", extent=[0,L,0,L], vmin=-0.03, vmax=0.03)\n",
    "myic = sim.ic.IC2DCosmo(512, L=L, rs=2., vec3d=True, Omega_m=1.)\n",
    "axs[1].imshow(myic.get_delta(a=0.01).T, origin=\"lower\", cmap=\"seismic\", extent=[0,L,0,L], vmin=-0.03, vmax=0.03)\n",
    "myic = sim.ic.IC2DCosmo(512, L=L, rs=1., vec3d=True, Omega_m=1.)\n",
    "axs[2].imshow(myic.get_delta(a=0.01).T, origin=\"lower\", cmap=\"seismic\", extent=[0,L,0,L], vmin=-0.03, vmax=0.03)\n",
    "plt.colorbar(im, ax=axs, orientation=\"horizontal\", label=r\"$\\delta (a = 0.01)$\")\n",
    "\n",
    "axs[0].set_title(\"rs = 5\")\n",
    "axs[1].set_title(\"rs = 2\")\n",
    "axs[2].set_title(\"rs = 1\")\n",
    "\n",
    "for ax in axs:\n",
    "    ax.set_xlabel(\"x [Mpc]\")\n",
    "    ax.set_ylabel(\"y [Mpc]\")"
   ]
  },
  {
   "cell_type": "markdown",
   "id": "b51dad42",
   "metadata": {},
   "source": [
    "# Plot The linear density field in comparison to the Zel'dovich approximation at different times\n",
    "\n",
    "To get the same plot, use L=100., sigma8=0.8, rs=0.5\n",
    "\n",
    "\n",
    "* relevant classes: sim.ic.IC2DCosmo\n",
    "* relevant functions: sim.ic.IC2DCosmo.get_x()\n",
    "\n",
    "To not over-crowd the image, plot only every 4th particle and only a smaller region\n",
    "\n",
    "if you use plt.imshow, watch out to transpose the image correctly!"
   ]
  },
  {
   "cell_type": "code",
   "execution_count": null,
   "id": "d779bfdb",
   "metadata": {
    "tags": []
   },
   "outputs": [],
   "source": [
    "aini = 0.02\n",
    "L = 100.\n",
    "myic = sim.ic.IC2DCosmo(512, sigma8=0.8, L=L, aic=aini, rs=0.5, vec3d=True, Omega_m=1.)\n",
    "\n",
    "fig, axs = plt.subplots(2,4, figsize=(22,8))\n",
    "\n",
    "for i,a in enumerate((0.02,0.2,0.5,1.0)):\n",
    "    im = axs[0,i].imshow(myic.get_delta(a=a).T, origin=\"lower\", cmap=\"seismic\", extent=[0,L,0,L], vmin=-1.5, vmax=1.5)\n",
    "    \n",
    "    pos = myic.get_x(a=a)\n",
    "\n",
    "    axs[1,i].scatter(pos[::4,::4].reshape(-1,2)[:,0], pos[::4,::4].reshape(-1,2)[:,1], marker=\".\", color=\"black\")\n",
    "    \n",
    "    axs[0,i].set_title(\"a = %.2f\" % a)\n",
    "plt.colorbar(im, ax=axs, orientation=\"vertical\", label=r\"$\\delta (a = 0.01)$\")\n",
    "\n",
    "for ax in axs.flat:\n",
    "    ax.set_xlim(0,30)\n",
    "    ax.set_ylim(0,30)\n",
    "\n",
    "    ax.set_xlabel(\"x [Mpc]\")\n",
    "    ax.set_ylabel(\"y [Mpc]\")"
   ]
  },
  {
   "cell_type": "markdown",
   "id": "66f79243",
   "metadata": {},
   "source": [
    "# Use a histogram to \"visualize\" the non-linear density field"
   ]
  },
  {
   "cell_type": "code",
   "execution_count": null,
   "id": "dabc525e",
   "metadata": {
    "tags": []
   },
   "outputs": [],
   "source": [
    "aini = 0.02\n",
    "L = 100.\n",
    "myic = sim.ic.IC2DCosmo(512, L=L, aic=aini, rs=0.5, vec3d=True, Omega_m=1.)\n",
    "\n",
    "fig, axs = plt.subplots(3,4, figsize=(22,12))\n",
    "\n",
    "for i,a in enumerate((0.02,0.2,0.5, 1.)):\n",
    "    im = axs[0,i].imshow(myic.get_delta(a=a).T, origin=\"lower\", cmap=\"seismic\", extent=[0,L,0,L], vmin=-5, vmax=5)\n",
    "    \n",
    "    pos = myic.get_x(a=a)\n",
    "\n",
    "    axs[1,i].scatter(pos[::4,::4].reshape(-1,2)[:,0], pos[::4,::4].reshape(-1,2)[:,1], marker=\".\", color=\"black\")\n",
    "    \n",
    "    hist,_,_ = np.histogram2d(pos[...,0].flatten(), pos[...,1].flatten(), bins=np.linspace(0., L, 256))\n",
    "    axs[2,i].imshow(((hist-np.mean(hist))/np.mean(hist)).T, origin=\"lower\", cmap=\"seismic\", extent=[0,L,0,L], vmin=-5, vmax=5)\n",
    "    \n",
    "    axs[0,i].set_title(\"a = %.2f\" % a)\n",
    "plt.colorbar(im, ax=axs, orientation=\"vertical\", label=r\"$\\delta (a = 0.01)$\")\n",
    "\n",
    "for ax in axs.flat:\n",
    "    ax.set_xlim(0,20)\n",
    "    ax.set_ylim(0,20)\n",
    "\n",
    "    ax.set_xlabel(\"x [Mpc]\")\n",
    "    ax.set_ylabel(\"y [Mpc]\")"
   ]
  },
  {
   "cell_type": "markdown",
   "id": "29050122",
   "metadata": {},
   "source": [
    "# Add another row to the plot, showing the actual non-linear density field from a simulation in the same region\n",
    "Look at my2dsim.ipynb to see how to run a simulation!\n",
    "\n",
    "tip: sim.PM2DPotentialField.deposit gives a bit more accurate way of getting densities than a histogram\n",
    "\n",
    "it is called a CIC (clouds-in-cells) assignment"
   ]
  },
  {
   "cell_type": "code",
   "execution_count": null,
   "id": "175b3e33",
   "metadata": {},
   "outputs": [],
   "source": []
  }
 ],
 "metadata": {
  "kernelspec": {
   "display_name": "Python 3 (ipykernel)",
   "language": "python",
   "name": "python3"
  },
  "language_info": {
   "codemirror_mode": {
    "name": "ipython",
    "version": 3
   },
   "file_extension": ".py",
   "mimetype": "text/x-python",
   "name": "python",
   "nbconvert_exporter": "python",
   "pygments_lexer": "ipython3",
   "version": "3.11.4"
  }
 },
 "nbformat": 4,
 "nbformat_minor": 5
}
